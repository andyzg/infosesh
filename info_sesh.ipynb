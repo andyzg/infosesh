{
 "cells": [
  {
   "cell_type": "code",
   "execution_count": null,
   "metadata": {},
   "outputs": [],
   "source": [
    "from bs4 import BeautifulSoup\n",
    "from collections import defaultdict\n",
    "import requests\n",
    "\n",
    "dom = BeautifulSoup(request_html('http://www.ceca.uwaterloo.ca/students/sessions.php?month_num=1&year_num=2017'), 'html.parser')\n",
    "len(dom.select('td p a'))\n",
    "\n",
    "companies = defaultdict(dict)\n",
    "for year in range(2006, 2018):\n",
    "    for month in range(1, 13):\n",
    "        url = 'http://www.ceca.uwaterloo.ca/students/sessions.php?month_num={month}&year_num={year}'.format(month=month, year=year)\n",
    "        dom = BeautifulSoup(request_html(url), 'html.parser')\n",
    "        calendar = []\n",
    "        for i in dom.select('td p a'):\n",
    "            calendar.append(i.text)\n",
    "        companies[year][month] = calendar"
   ]
  },
  {
   "cell_type": "code",
   "execution_count": 140,
   "metadata": {},
   "outputs": [],
   "source": [
    "def request_html(url):\n",
    "    \"\"\"GET request to blog link, returns decoded HTML.\"\"\"\n",
    "    try:\n",
    "        r = requests.get(url)\n",
    "        return r.content\n",
    "    except Exception as e:\n",
    "        print(e)\n",
    "        print('Error: could not GET from ' + url)\n",
    "        return None"
   ]
  },
  {
   "cell_type": "code",
   "execution_count": 141,
   "metadata": {},
   "outputs": [],
   "source": [
    "class Event:\n",
    "    def __init__(self, title, year, month):\n",
    "        self._title = title\n",
    "        self.year = year\n",
    "        self.month = month\n",
    "        \n",
    "    def is_valid(self):\n",
    "        if 'No info sessions' in self._title:\n",
    "            return False\n",
    "        if 'MAIN ' in self._title:\n",
    "            return False\n",
    "        if 'Reading week' in self._title:\n",
    "            return False\n",
    "        if 'Info Session' in self._title:\n",
    "            return False\n",
    "        return True\n",
    "       \n",
    "    @property\n",
    "    def title(self):\n",
    "        return self._title.lower().replace('cancelled', '').replace('*', '').replace('-', '').strip()"
   ]
  },
  {
   "cell_type": "code",
   "execution_count": 142,
   "metadata": {
    "scrolled": true
   },
   "outputs": [],
   "source": [
    "terms = []\n",
    "for i in companies:\n",
    "    for j in range(0, 3):\n",
    "        terms.append(companies[i][j*4+1] + companies[i][j*4+4] + companies[i][j*4+2] + companies[i][j*4+3])"
   ]
  },
  {
   "cell_type": "code",
   "execution_count": 143,
   "metadata": {},
   "outputs": [],
   "source": [
    "events = []\n",
    "for i in companies:\n",
    "    for j in companies[i]:\n",
    "        for item in companies[i][j]:\n",
    "            events.append(Event(item, i, j))\n",
    "events = filter(lambda x: x.is_valid(), events)"
   ]
  },
  {
   "cell_type": "code",
   "execution_count": 151,
   "metadata": {},
   "outputs": [],
   "source": [
    "def group_by_term(events):\n",
    "    groups = defaultdict(dict)\n",
    "    for i in range(2006, 2018):\n",
    "        for j in range(0, 3):\n",
    "            groups[i][j] = []\n",
    "            \n",
    "    for e in events:\n",
    "        groups[e.year][(e.month-1) / 4].append(e)\n",
    "    flat_terms = []\n",
    "    for i in range(2006, 2018):\n",
    "        for j in range(0, 3):\n",
    "            flat_terms.append(groups[i][j])\n",
    "    return flat_terms\n",
    "            "
   ]
  },
  {
   "cell_type": "code",
   "execution_count": 152,
   "metadata": {},
   "outputs": [],
   "source": [
    "terms = group_by_term(events)"
   ]
  },
  {
   "cell_type": "code",
   "execution_count": 153,
   "metadata": {},
   "outputs": [],
   "source": [
    "all_companies = []\n",
    "for i in terms:\n",
    "    for e in i:\n",
    "        all_companies.append(e.title)\n",
    "all_companies = set(all_companies)"
   ]
  },
  {
   "cell_type": "code",
   "execution_count": 154,
   "metadata": {},
   "outputs": [],
   "source": [
    "count = defaultdict(int)\n",
    "for t in terms:\n",
    "    for e in t:\n",
    "        count[e.title] += 1\n",
    "#for w in sorted(count, key=count.get, reverse=True):\n",
    "#    print w, count[w]"
   ]
  },
  {
   "cell_type": "code",
   "execution_count": 200,
   "metadata": {},
   "outputs": [],
   "source": [
    "tech_companies = ['microsoft', 'facebook', 'amazon', 'google', 'amazon', 'yelp', 'linkedin', 'twiter', 'palantir', 'hulu', 'yext', 'wish', 'nvidia', 'meraki', 'yahoo', 'shopify', 'pinterest', 'vmware', 'dropbox', 'mozilla', 'noom', 'stripe', 'atomic', 'zenefits', 'two sigma', 'tesla', 'pagerduty', 'snap', 'expedia', 'jane street', 'wealthsimple', 'quora', 'square', 'lyft', 'uber']"
   ]
  },
  {
   "cell_type": "code",
   "execution_count": 201,
   "metadata": {},
   "outputs": [],
   "source": [
    "company_matches = []\n",
    "for t in terms:\n",
    "    matches = []\n",
    "    for e in t:\n",
    "        for tc in tech_companies:\n",
    "            if tc in e.title:\n",
    "                matches.append(tc)\n",
    "    company_matches.append(set(matches))"
   ]
  },
  {
   "cell_type": "code",
   "execution_count": 202,
   "metadata": {},
   "outputs": [
    {
     "name": "stdout",
     "output_type": "stream",
     "text": [
      "[set(['amazon', 'microsoft', 'vmware', 'nvidia']), set(['amazon', 'microsoft']), set(['expedia', 'amazon', 'google', 'nvidia', 'microsoft', 'vmware']), set(['expedia', 'amazon', 'google', 'nvidia', 'microsoft', 'vmware']), set(['amazon', 'google', 'microsoft']), set(['expedia', 'yahoo', 'amazon', 'google', 'microsoft', 'vmware']), set(['google', 'yahoo', 'hulu', 'amazon', 'expedia', 'facebook', 'nvidia', 'microsoft', 'vmware']), set(['amazon', 'microsoft', 'yahoo']), set(['google', 'yahoo', 'hulu', 'amazon', 'expedia', 'facebook', 'nvidia', 'microsoft', 'vmware']), set(['google', 'hulu', 'amazon', 'facebook', 'nvidia', 'microsoft']), set(['amazon', 'google', 'facebook']), set(['google', 'mozilla', 'yahoo', 'hulu', 'amazon', 'expedia', 'facebook', 'microsoft']), set(['google', 'mozilla', 'hulu', 'amazon', 'facebook', 'microsoft']), set(['amazon', 'mozilla', 'facebook', 'microsoft']), set(['google', 'yelp', 'mozilla', 'hulu', 'amazon', 'facebook', 'microsoft']), set(['google', 'shopify', 'yelp', 'mozilla', 'linkedin', 'amazon', 'facebook', 'microsoft', 'vmware']), set(['google', 'mozilla', 'linkedin', 'amazon', 'facebook', 'microsoft']), set(['square', 'shopify', 'yext', 'mozilla', 'linkedin', 'palantir', 'hulu', 'amazon', 'google', 'facebook', 'nvidia', 'yelp', 'microsoft']), set(['google', 'linkedin', 'palantir', 'amazon', 'expedia', 'facebook', 'microsoft', 'vmware']), set(['google', 'yelp', 'pinterest', 'noom', 'linkedin', 'palantir', 'amazon', 'square', 'facebook', 'microsoft']), set(['google', 'yext', 'yelp', 'noom', 'mozilla', 'linkedin', 'palantir', 'hulu', 'amazon', 'square', 'facebook', 'microsoft', 'vmware']), set(['square', 'yelp', 'noom', 'linkedin', 'palantir', 'hulu', 'amazon', 'google', 'facebook', 'dropbox', 'microsoft']), set(['google', 'shopify', 'yelp', 'pinterest', 'noom', 'linkedin', 'palantir', 'amazon', 'facebook', 'wish', 'dropbox', 'microsoft']), set(['google', 'yelp', 'yext', 'pinterest', 'tesla', 'noom', 'linkedin', 'palantir', 'hulu', 'amazon', 'facebook', 'snap', 'microsoft', 'vmware']), set(['google', 'yext', 'yelp', 'pinterest', 'noom', 'mozilla', 'yahoo', 'linkedin', 'palantir', 'amazon', 'facebook', 'dropbox', 'microsoft', 'vmware']), set(['google', 'pagerduty', 'yelp', 'noom', 'quora', 'linkedin', 'palantir', 'amazon', 'facebook', 'stripe', 'wish', 'meraki', 'microsoft']), set(['wish', 'google', 'pagerduty', 'yelp', 'yext', 'tesla', 'noom', 'quora', 'yahoo', 'linkedin', 'palantir', 'hulu', 'amazon', 'facebook', 'stripe', 'nvidia', 'dropbox', 'meraki', 'microsoft']), set(['google', 'pagerduty', 'yelp', 'pinterest', 'noom', 'mozilla', 'linkedin', 'palantir', 'amazon', 'facebook', 'atomic', 'two sigma', 'wish', 'dropbox', 'meraki', 'microsoft']), set(['google', 'pagerduty', 'shopify', 'yelp', 'noom', 'nvidia', 'wealthsimple', 'linkedin', 'palantir', 'amazon', 'square', 'facebook', 'atomic', 'wish', 'snap', 'meraki', 'zenefits', 'microsoft', 'stripe']), set(['uber', 'google', 'tesla', 'linkedin', 'palantir', 'atomic', 'meraki', 'zenefits', 'wealthsimple', 'pinterest', 'noom', 'two sigma', 'snap', 'yext', 'yahoo', 'amazon', 'facebook', 'shopify', 'pagerduty', 'yelp', 'wish', 'microsoft']), set(['google', 'pagerduty', 'yelp', 'yext', 'wish', 'yahoo', 'linkedin', 'palantir', 'amazon', 'lyft', 'facebook', 'atomic', 'two sigma', 'noom', 'dropbox', 'meraki', 'zenefits', 'microsoft', 'shopify']), set(['google', 'shopify', 'yext', 'noom', 'yahoo', 'linkedin', 'palantir', 'amazon', 'facebook', 'atomic', 'wish', 'yelp', 'meraki', 'zenefits', 'microsoft', 'stripe']), set(['uber', 'google', 'yelp', 'yext', 'tesla', 'wish', 'jane street', 'linkedin', 'yahoo', 'amazon', 'facebook', 'two sigma', 'noom', 'snap', 'meraki', 'microsoft']), set(['uber', 'google', 'yelp', 'square', 'tesla', 'noom', 'yahoo', 'amazon', 'lyft', 'facebook', 'atomic', 'wish', 'dropbox', 'meraki']), set(['uber', 'wealthsimple', 'yext', 'wish', 'yahoo', 'amazon', 'stripe', 'yelp', 'meraki', 'microsoft']), set(['uber', 'yelp', 'yext', 'tesla', 'wish', 'jane street', 'yahoo', 'amazon', 'facebook', 'stripe', 'nvidia', 'meraki'])]\n"
     ]
    }
   ],
   "source": [
    "print(company_matches)"
   ]
  },
  {
   "cell_type": "code",
   "execution_count": 203,
   "metadata": {
    "scrolled": true
   },
   "outputs": [
    {
     "name": "stdout",
     "output_type": "stream",
     "text": [
      "4\n",
      "2\n",
      "6\n",
      "()\n",
      "6\n",
      "3\n",
      "6\n",
      "()\n",
      "9\n",
      "3\n",
      "9\n",
      "()\n",
      "6\n",
      "3\n",
      "8\n",
      "()\n",
      "6\n",
      "4\n",
      "7\n",
      "()\n",
      "9\n",
      "6\n",
      "13\n",
      "()\n",
      "8\n",
      "10\n",
      "13\n",
      "()\n",
      "11\n",
      "12\n",
      "14\n",
      "()\n",
      "14\n",
      "13\n",
      "19\n",
      "()\n",
      "16\n",
      "19\n",
      "22\n",
      "()\n",
      "19\n",
      "16\n",
      "16\n",
      "()\n",
      "14\n",
      "10\n",
      "12\n",
      "()\n"
     ]
    }
   ],
   "source": [
    "for i, t in enumerate(company_matches):\n",
    "    print(len(t))\n",
    "    if i % 3 == 2:\n",
    "        print()"
   ]
  },
  {
   "cell_type": "code",
   "execution_count": 204,
   "metadata": {},
   "outputs": [
    {
     "name": "stdout",
     "output_type": "stream",
     "text": [
      "[set(['expedia', 'amazon', 'google', 'nvidia', 'microsoft', 'vmware']), set(['google', 'yahoo', 'hulu', 'amazon', 'expedia', 'facebook', 'nvidia', 'microsoft', 'vmware']), set(['google', 'mozilla', 'yahoo', 'hulu', 'amazon', 'expedia', 'facebook', 'nvidia', 'microsoft', 'vmware']), set(['google', 'shopify', 'yelp', 'mozilla', 'linkedin', 'hulu', 'amazon', 'facebook', 'microsoft', 'vmware']), set(['google', 'shopify', 'yext', 'pinterest', 'noom', 'expedia', 'mozilla', 'linkedin', 'palantir', 'hulu', 'amazon', 'square', 'facebook', 'nvidia', 'yelp', 'microsoft', 'vmware']), set(['google', 'yext', 'yelp', 'pinterest', 'tesla', 'noom', 'mozilla', 'linkedin', 'palantir', 'hulu', 'amazon', 'square', 'facebook', 'wish', 'snap', 'dropbox', 'microsoft', 'vmware', 'shopify']), set(['google', 'tesla', 'linkedin', 'palantir', 'atomic', 'meraki', 'vmware', 'pinterest', 'noom', 'two sigma', 'mozilla', 'yext', 'quora', 'yahoo', 'hulu', 'amazon', 'facebook', 'stripe', 'dropbox', 'pagerduty', 'yelp', 'wish', 'nvidia', 'microsoft']), set(['uber', 'google', 'tesla', 'linkedin', 'palantir', 'square', 'atomic', 'meraki', 'zenefits', 'shopify', 'pinterest', 'noom', 'two sigma', 'snap', 'lyft', 'yext', 'yahoo', 'amazon', 'facebook', 'stripe', 'dropbox', 'wealthsimple', 'pagerduty', 'yelp', 'wish', 'nvidia', 'microsoft']), set(['uber', 'google', 'tesla', 'linkedin', 'lyft', 'atomic', 'meraki', 'wealthsimple', 'noom', 'square', 'two sigma', 'snap', 'yext', 'yahoo', 'amazon', 'facebook', 'stripe', 'dropbox', 'yelp', 'wish', 'jane street', 'nvidia', 'microsoft'])]\n",
      "set(['expedia', 'amazon', 'google', 'nvidia', 'microsoft', 'vmware'])\n",
      "set(['google', 'yahoo', 'hulu', 'amazon', 'expedia', 'facebook', 'nvidia', 'microsoft', 'vmware'])\n",
      "set(['google', 'mozilla', 'yahoo', 'hulu', 'amazon', 'expedia', 'facebook', 'nvidia', 'microsoft', 'vmware'])\n",
      "set(['google', 'shopify', 'yelp', 'mozilla', 'linkedin', 'hulu', 'amazon', 'facebook', 'microsoft', 'vmware'])\n",
      "set(['expedia', 'shopify', 'yext', 'pinterest', 'noom', 'mozilla', 'linkedin', 'palantir', 'hulu', 'amazon', 'google', 'square', 'yelp', 'nvidia', 'facebook', 'microsoft', 'vmware'])\n",
      "set(['google', 'yext', 'yelp', 'pinterest', 'tesla', 'noom', 'mozilla', 'linkedin', 'palantir', 'hulu', 'amazon', 'square', 'facebook', 'wish', 'snap', 'dropbox', 'microsoft', 'vmware', 'shopify'])\n",
      "set(['google', 'tesla', 'linkedin', 'palantir', 'atomic', 'meraki', 'vmware', 'pinterest', 'noom', 'two sigma', 'quora', 'yext', 'mozilla', 'yahoo', 'hulu', 'amazon', 'facebook', 'stripe', 'dropbox', 'pagerduty', 'yelp', 'wish', 'nvidia', 'microsoft'])\n",
      "set(['uber', 'google', 'tesla', 'linkedin', 'palantir', 'lyft', 'atomic', 'meraki', 'zenefits', 'wealthsimple', 'pinterest', 'noom', 'square', 'two sigma', 'snap', 'yext', 'yahoo', 'amazon', 'facebook', 'stripe', 'dropbox', 'shopify', 'pagerduty', 'yelp', 'wish', 'nvidia', 'microsoft'])\n",
      "set(['uber', 'google', 'tesla', 'linkedin', 'lyft', 'atomic', 'meraki', 'wealthsimple', 'noom', 'square', 'two sigma', 'snap', 'yext', 'yahoo', 'amazon', 'facebook', 'stripe', 'dropbox', 'yelp', 'wish', 'jane street', 'nvidia', 'microsoft'])\n"
     ]
    }
   ],
   "source": [
    "year = []\n",
    "for i in range(0, len(company_matches)/4):\n",
    "    year.append(set(list(company_matches[i*4]) + list(company_matches[i*4+1]) + list(company_matches[i*4+2]) + list(company_matches[i*4+3])))\n",
    "\n",
    "cm = []\n",
    "print(year)\n",
    "for i in year:\n",
    "    m = []\n",
    "    for e in i:\n",
    "        for tc in tech_companies:\n",
    "            if tc in e:\n",
    "                m.append(tc)\n",
    "    cm.append(set(m))\n",
    "for i in cm:\n",
    "    print(i)"
   ]
  },
  {
   "cell_type": "code",
   "execution_count": 205,
   "metadata": {
    "scrolled": false
   },
   "outputs": [
    {
     "name": "stdout",
     "output_type": "stream",
     "text": [
      "6\n",
      "9\n",
      "10\n",
      "10\n",
      "17\n",
      "19\n",
      "24\n",
      "27\n",
      "23\n"
     ]
    }
   ],
   "source": [
    "for i in cm:\n",
    "    print(len(i))"
   ]
  },
  {
   "cell_type": "code",
   "execution_count": null,
   "metadata": {},
   "outputs": [],
   "source": []
  },
  {
   "cell_type": "code",
   "execution_count": null,
   "metadata": {},
   "outputs": [],
   "source": []
  },
  {
   "cell_type": "code",
   "execution_count": null,
   "metadata": {},
   "outputs": [],
   "source": []
  },
  {
   "cell_type": "code",
   "execution_count": null,
   "metadata": {},
   "outputs": [],
   "source": []
  },
  {
   "cell_type": "code",
   "execution_count": null,
   "metadata": {},
   "outputs": [],
   "source": []
  }
 ],
 "metadata": {
  "kernelspec": {
   "display_name": "Python 2",
   "language": "python",
   "name": "python2"
  }
 },
 "nbformat": 4,
 "nbformat_minor": 2
}
