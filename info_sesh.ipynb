{
 "cells": [
  {
   "cell_type": "code",
   "execution_count": null,
   "metadata": {},
   "outputs": [],
   "source": [
    "from bs4 import BeautifulSoup\n",
    "from collections import defaultdict\n",
    "import requests\n",
    "\n",
    "dom = BeautifulSoup(request_html('http://www.ceca.uwaterloo.ca/students/sessions.php?month_num=1&year_num=2017'), 'html.parser')\n",
    "len(dom.select('td p a'))\n",
    "\n",
    "companies = defaultdict(dict)\n",
    "for year in range(2006, 2018):\n",
    "    for month in range(1, 13):\n",
    "        url = 'http://www.ceca.uwaterloo.ca/students/sessions.php?month_num={month}&year_num={year}'.format(month=month, year=year)\n",
    "        dom = BeautifulSoup(request_html(url), 'html.parser')\n",
    "        calendar = []\n",
    "        for i in dom.select('td p a'):\n",
    "            calendar.append(i.text)\n",
    "        companies[year][month] = calendar"
   ]
  },
  {
   "cell_type": "code",
   "execution_count": 140,
   "metadata": {},
   "outputs": [],
   "source": [
    "def request_html(url):\n",
    "    \"\"\"GET request to blog link, returns decoded HTML.\"\"\"\n",
    "    try:\n",
    "        r = requests.get(url)\n",
    "        return r.content\n",
    "    except Exception as e:\n",
    "        print(e)\n",
    "        print('Error: could not GET from ' + url)\n",
    "        return None"
   ]
  },
  {
   "cell_type": "code",
   "execution_count": 141,
   "metadata": {},
   "outputs": [],
   "source": [
    "class Event:\n",
    "    def __init__(self, title, year, month):\n",
    "        self._title = title\n",
    "        self.year = year\n",
    "        self.month = month\n",
    "        \n",
    "    def is_valid(self):\n",
    "        if 'No info sessions' in self._title:\n",
    "            return False\n",
    "        if 'MAIN ' in self._title:\n",
    "            return False\n",
    "        if 'Reading week' in self._title:\n",
    "            return False\n",
    "        if 'Info Session' in self._title:\n",
    "            return False\n",
    "        return True\n",
    "       \n",
    "    @property\n",
    "    def title(self):\n",
    "        return self._title.lower().replace('cancelled', '').replace('*', '').replace('-', '').strip()"
   ]
  },
  {
   "cell_type": "code",
   "execution_count": 142,
   "metadata": {
    "scrolled": true
   },
   "outputs": [],
   "source": [
    "terms = []\n",
    "for i in companies:\n",
    "    for j in range(0, 3):\n",
    "        terms.append(companies[i][j*4+1] + companies[i][j*4+4] + companies[i][j*4+2] + companies[i][j*4+3])"
   ]
  },
  {
   "cell_type": "code",
   "execution_count": 143,
   "metadata": {},
   "outputs": [],
   "source": [
    "events = []\n",
    "for i in companies:\n",
    "    for j in companies[i]:\n",
    "        for item in companies[i][j]:\n",
    "            events.append(Event(item, i, j))\n",
    "events = filter(lambda x: x.is_valid(), events)"
   ]
  },
  {
   "cell_type": "code",
   "execution_count": 151,
   "metadata": {},
   "outputs": [],
   "source": [
    "def group_by_term(events):\n",
    "    groups = defaultdict(dict)\n",
    "    for i in range(2006, 2018):\n",
    "        for j in range(0, 3):\n",
    "            groups[i][j] = []\n",
    "            \n",
    "    for e in events:\n",
    "        groups[e.year][(e.month-1) / 4].append(e)\n",
    "    flat_terms = []\n",
    "    for i in range(2006, 2018):\n",
    "        for j in range(0, 3):\n",
    "            flat_terms.append(groups[i][j])\n",
    "    return flat_terms\n",
    "            "
   ]
  },
  {
   "cell_type": "code",
   "execution_count": 152,
   "metadata": {},
   "outputs": [],
   "source": [
    "terms = group_by_term(events)"
   ]
  },
  {
   "cell_type": "code",
   "execution_count": 153,
   "metadata": {},
   "outputs": [],
   "source": [
    "all_companies = []\n",
    "for i in terms:\n",
    "    for e in i:\n",
    "        all_companies.append(e.title)\n",
    "all_companies = set(all_companies)"
   ]
  },
  {
   "cell_type": "code",
   "execution_count": 154,
   "metadata": {},
   "outputs": [],
   "source": [
    "count = defaultdict(int)\n",
    "for t in terms:\n",
    "    for e in t:\n",
    "        count[e.title] += 1\n",
    "#for w in sorted(count, key=count.get, reverse=True):\n",
    "#    print w, count[w]"
   ]
  },
  {
   "cell_type": "code",
   "execution_count": 155,
   "metadata": {},
   "outputs": [],
   "source": [
    "tech_companies = ['microsoft', 'facebook', 'amazon', 'google', 'amazon', 'yelp', 'linkedin', 'twiter', 'palantir', 'hulu', 'yext', 'wish', 'nvidia', 'meraki', 'yahoo', 'shopify', 'pinterest', 'vmware', 'dropbox', 'mozilla', 'noom', 'stripe', 'atomic', 'zenefits', 'two sigma', 'tesla', 'pagerduty', 'snap', 'expedia', 'jane street', 'wealthsimple', 'quora', 'square']"
   ]
  },
  {
   "cell_type": "code",
   "execution_count": 156,
   "metadata": {},
   "outputs": [],
   "source": [
    "company_matches = []\n",
    "for t in terms:\n",
    "    matches = []\n",
    "    for e in t:\n",
    "        for tc in tech_companies:\n",
    "            if tc in e.title:\n",
    "                matches.append(tc)\n",
    "    company_matches.append(set(matches))"
   ]
  },
  {
   "cell_type": "code",
   "execution_count": 157,
   "metadata": {},
   "outputs": [
    {
     "name": "stdout",
     "output_type": "stream",
     "text": [
      "[set(['amazon', 'microsoft', 'vmware', 'nvidia']), set(['amazon', 'microsoft']), set(['expedia', 'amazon', 'google', 'nvidia', 'microsoft', 'vmware']), set(['expedia', 'amazon', 'google', 'nvidia', 'microsoft', 'vmware']), set(['amazon', 'google', 'microsoft']), set(['expedia', 'yahoo', 'amazon', 'google', 'microsoft', 'vmware']), set(['google', 'yahoo', 'hulu', 'amazon', 'expedia', 'facebook', 'nvidia', 'microsoft', 'vmware']), set(['amazon', 'microsoft', 'yahoo']), set(['google', 'yahoo', 'hulu', 'amazon', 'expedia', 'facebook', 'nvidia', 'microsoft', 'vmware']), set(['google', 'hulu', 'amazon', 'facebook', 'nvidia', 'microsoft']), set(['amazon', 'google', 'facebook']), set(['google', 'mozilla', 'yahoo', 'hulu', 'amazon', 'expedia', 'facebook', 'microsoft']), set(['google', 'mozilla', 'hulu', 'amazon', 'facebook', 'microsoft']), set(['amazon', 'mozilla', 'facebook', 'microsoft']), set(['google', 'yelp', 'mozilla', 'hulu', 'amazon', 'facebook', 'microsoft']), set(['google', 'shopify', 'yelp', 'mozilla', 'linkedin', 'amazon', 'facebook', 'microsoft', 'vmware']), set(['google', 'mozilla', 'linkedin', 'amazon', 'facebook', 'microsoft']), set(['square', 'shopify', 'yext', 'mozilla', 'linkedin', 'palantir', 'hulu', 'amazon', 'google', 'facebook', 'nvidia', 'yelp', 'microsoft']), set(['google', 'linkedin', 'palantir', 'amazon', 'expedia', 'facebook', 'microsoft', 'vmware']), set(['google', 'yelp', 'pinterest', 'noom', 'linkedin', 'palantir', 'amazon', 'square', 'facebook', 'microsoft']), set(['google', 'yext', 'yelp', 'noom', 'mozilla', 'linkedin', 'palantir', 'hulu', 'amazon', 'square', 'facebook', 'microsoft', 'vmware']), set(['square', 'yelp', 'noom', 'linkedin', 'palantir', 'hulu', 'amazon', 'google', 'facebook', 'dropbox', 'microsoft']), set(['google', 'shopify', 'yelp', 'pinterest', 'noom', 'linkedin', 'palantir', 'amazon', 'facebook', 'wish', 'dropbox', 'microsoft']), set(['google', 'yelp', 'yext', 'pinterest', 'tesla', 'noom', 'linkedin', 'palantir', 'hulu', 'amazon', 'facebook', 'snap', 'microsoft', 'vmware']), set(['google', 'yext', 'yelp', 'pinterest', 'noom', 'mozilla', 'yahoo', 'linkedin', 'palantir', 'amazon', 'facebook', 'dropbox', 'microsoft', 'vmware']), set(['google', 'pagerduty', 'yelp', 'noom', 'quora', 'linkedin', 'palantir', 'amazon', 'facebook', 'stripe', 'wish', 'meraki', 'microsoft']), set(['wish', 'google', 'pagerduty', 'yelp', 'yext', 'tesla', 'noom', 'quora', 'yahoo', 'linkedin', 'palantir', 'hulu', 'amazon', 'facebook', 'stripe', 'nvidia', 'dropbox', 'meraki', 'microsoft']), set(['google', 'pagerduty', 'yelp', 'pinterest', 'noom', 'mozilla', 'linkedin', 'palantir', 'amazon', 'facebook', 'atomic', 'two sigma', 'wish', 'dropbox', 'meraki', 'microsoft']), set(['google', 'pagerduty', 'shopify', 'yelp', 'noom', 'nvidia', 'wealthsimple', 'linkedin', 'palantir', 'amazon', 'square', 'facebook', 'atomic', 'wish', 'snap', 'meraki', 'zenefits', 'microsoft', 'stripe']), set(['google', 'pagerduty', 'wealthsimple', 'yext', 'pinterest', 'tesla', 'noom', 'yahoo', 'linkedin', 'palantir', 'amazon', 'facebook', 'atomic', 'two sigma', 'wish', 'snap', 'yelp', 'meraki', 'zenefits', 'microsoft', 'shopify']), set(['google', 'pagerduty', 'yelp', 'yext', 'wish', 'yahoo', 'linkedin', 'palantir', 'amazon', 'facebook', 'atomic', 'two sigma', 'noom', 'dropbox', 'meraki', 'zenefits', 'microsoft', 'shopify']), set(['google', 'shopify', 'yext', 'noom', 'yahoo', 'linkedin', 'palantir', 'amazon', 'facebook', 'atomic', 'wish', 'yelp', 'meraki', 'zenefits', 'microsoft', 'stripe']), set(['google', 'yelp', 'yext', 'tesla', 'wish', 'jane street', 'linkedin', 'yahoo', 'amazon', 'facebook', 'two sigma', 'noom', 'snap', 'meraki', 'microsoft']), set(['square', 'yelp', 'tesla', 'noom', 'yahoo', 'amazon', 'google', 'facebook', 'atomic', 'wish', 'dropbox', 'meraki']), set(['wealthsimple', 'yext', 'wish', 'yahoo', 'amazon', 'stripe', 'yelp', 'meraki', 'microsoft']), set(['yelp', 'yext', 'tesla', 'wish', 'jane street', 'yahoo', 'amazon', 'facebook', 'stripe', 'nvidia', 'meraki'])]\n"
     ]
    }
   ],
   "source": [
    "print(company_matches)"
   ]
  },
  {
   "cell_type": "code",
   "execution_count": 170,
   "metadata": {},
   "outputs": [
    {
     "name": "stdout",
     "output_type": "stream",
     "text": [
      "4\n",
      "2\n",
      "6\n",
      "(2, 'wat')\n",
      "6\n",
      "3\n",
      "6\n",
      "(5, 'wat')\n",
      "9\n",
      "3\n",
      "9\n",
      "(8, 'wat')\n",
      "6\n",
      "3\n",
      "8\n",
      "(11, 'wat')\n",
      "6\n",
      "4\n",
      "7\n",
      "(14, 'wat')\n",
      "9\n",
      "6\n",
      "13\n",
      "(17, 'wat')\n",
      "8\n",
      "10\n",
      "13\n",
      "(20, 'wat')\n",
      "11\n",
      "12\n",
      "14\n",
      "(23, 'wat')\n",
      "14\n",
      "13\n",
      "19\n",
      "(26, 'wat')\n",
      "16\n",
      "19\n",
      "21\n",
      "(29, 'wat')\n",
      "18\n",
      "16\n",
      "15\n",
      "(32, 'wat')\n",
      "12\n",
      "9\n",
      "11\n",
      "(35, 'wat')\n"
     ]
    }
   ],
   "source": [
    "for i, t in enumerate(company_matches):\n",
    "    print(len(t))\n",
    "    if i % 3 == 2:\n",
    "        print(i, 'wat')"
   ]
  },
  {
   "cell_type": "code",
   "execution_count": null,
   "metadata": {},
   "outputs": [],
   "source": []
  }
 ],
 "metadata": {
  "kernelspec": {
   "display_name": "Python 2",
   "language": "python",
   "name": "python2"
  }
 },
 "nbformat": 4,
 "nbformat_minor": 2
}
